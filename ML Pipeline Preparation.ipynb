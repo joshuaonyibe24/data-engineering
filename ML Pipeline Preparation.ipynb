{
 "cells": [
  {
   "cell_type": "markdown",
   "metadata": {},
   "source": [
    "# ML Pipeline Preparation\n",
    "Follow the instructions below to help you create your ML pipeline.\n",
    "### 1. Import libraries and load data from database.\n",
    "- Import Python libraries\n",
    "- Load dataset from database with [`read_sql_table`](https://pandas.pydata.org/pandas-docs/stable/generated/pandas.read_sql_table.html)\n",
    "- Define feature and target variables X and Y"
   ]
  },
  {
   "cell_type": "code",
   "execution_count": 1,
   "metadata": {},
   "outputs": [
    {
     "name": "stdout",
     "output_type": "stream",
     "text": [
      "[nltk_data] Downloading package punkt to /root/nltk_data...\n",
      "[nltk_data]   Package punkt is already up-to-date!\n",
      "[nltk_data] Downloading package wordnet to /root/nltk_data...\n",
      "[nltk_data]   Package wordnet is already up-to-date!\n",
      "[nltk_data] Downloading package averaged_perceptron_tagger to\n",
      "[nltk_data]     /root/nltk_data...\n",
      "[nltk_data]   Package averaged_perceptron_tagger is already up-to-\n",
      "[nltk_data]       date!\n",
      "[nltk_data] Downloading package stopwords to /root/nltk_data...\n",
      "[nltk_data]   Package stopwords is already up-to-date!\n"
     ]
    }
   ],
   "source": [
    "# import libraries\n",
    "import nltk\n",
    "nltk.download(['punkt', 'wordnet', 'averaged_perceptron_tagger','stopwords',])\n",
    "from nltk.corpus import stopwords\n",
    "import re\n",
    "import numpy as np\n",
    "import pandas as pd\n",
    "from nltk.tokenize import word_tokenize\n",
    "from nltk.stem import WordNetLemmatizer\n",
    "from sklearn.metrics import make_scorer, f1_score\n",
    "from sklearn.model_selection import train_test_split\n",
    "from sklearn.pipeline import Pipeline, FeatureUnion\n",
    "from sklearn.base import BaseEstimator, TransformerMixin\n",
    "from sqlalchemy import create_engine\n",
    "from sklearn.metrics import classification_report\n",
    "from sklearn.model_selection import train_test_split, GridSearchCV\n",
    "from sklearn.feature_extraction.text import CountVectorizer, TfidfTransformer\n",
    "from sklearn.ensemble import RandomForestClassifier\n",
    "from sklearn.pipeline import Pipeline\n",
    "from sklearn.metrics import make_scorer, f1_score, accuracy_score, precision_score, recall_score\n",
    "import unicodedata\n",
    "from nltk.tokenize import WhitespaceTokenizer\n"
   ]
  },
  {
   "cell_type": "code",
   "execution_count": 2,
   "metadata": {
    "scrolled": true
   },
   "outputs": [],
   "source": [
    "# load data from database\n",
    "engine = create_engine('sqlite:///disaster_response.db')\n",
    "df = pd.read_sql_table('disater_response', engine)\n",
    "X = df['message']\n",
    "y = df.iloc[:,4:]"
   ]
  },
  {
   "cell_type": "markdown",
   "metadata": {},
   "source": [
    "### 2. Write a tokenization function to process your text data"
   ]
  },
  {
   "cell_type": "code",
   "execution_count": 3,
   "metadata": {},
   "outputs": [],
   "source": [
    "def load_data():\n",
    "    df = pd.read_sql_table('disater_response', engine)\n",
    "    X = df['message']\n",
    "    y = df.iloc[:,4:]\n",
    "    \n",
    "    \n",
    "    \n",
    "    return X, y\n",
    "\n",
    "def tokenize(text):\n",
    "    # Tokenize text using word_tokenize\n",
    "    tokens = word_tokenize(text)\n",
    "    lemmatizer = WordNetLemmatizer()\n",
    "    \n",
    "    # Remove stopwords and perform additional normalization\n",
    "    processed_tokens = []\n",
    "    for token in tokens:\n",
    "        # Convert token to lowercase and remove punctuation\n",
    "        token = token.lower().strip('!\"#$%&\\'()*+,-./:;<=>?@[\\\\]^_`{|}~')\n",
    "        # Remove accents\n",
    "        token = unicodedata.normalize('NFKD', token).encode('ascii', 'ignore').decode('utf-8', 'ignore')\n",
    "        # Lemmatize token\n",
    "        token = lemmatizer.lemmatize(token)\n",
    "        # Remove stopwords and append token to processed tokens if not empty\n",
    "        if token not in stopwords.words('english') and token != '':\n",
    "            processed_tokens.append(token)\n",
    "    return processed_tokens\n",
    "\n",
    "\n",
    " \n"
   ]
  },
  {
   "cell_type": "markdown",
   "metadata": {},
   "source": [
    "### 3. Build a machine learning pipeline\n",
    "This machine pipeline should take in the `message` column as input and output classification results on the other 36 categories in the dataset. You may find the [MultiOutputClassifier](http://scikit-learn.org/stable/modules/generated/sklearn.multioutput.MultiOutputClassifier.html) helpful for predicting multiple target variables."
   ]
  },
  {
   "cell_type": "code",
   "execution_count": 4,
   "metadata": {},
   "outputs": [],
   "source": [
    "from sklearn.multioutput import MultiOutputClassifier\n",
    "# Build machine learning pipeline\n",
    "pipeline = Pipeline([\n",
    "    ('vect', CountVectorizer(tokenizer = tokenize)),\n",
    "    ('tfidf', TfidfTransformer()),\n",
    "    ('clf', MultiOutputClassifier(RandomForestClassifier()))\n",
    "])"
   ]
  },
  {
   "cell_type": "markdown",
   "metadata": {},
   "source": [
    "### 4. Train pipeline\n",
    "- Split data into train and test sets\n",
    "- Train pipeline"
   ]
  },
  {
   "cell_type": "code",
   "execution_count": 5,
   "metadata": {},
   "outputs": [
    {
     "data": {
      "text/plain": [
       "Pipeline(memory=None,\n",
       "     steps=[('vect', CountVectorizer(analyzer='word', binary=False, decode_error='strict',\n",
       "        dtype=<class 'numpy.int64'>, encoding='utf-8', input='content',\n",
       "        lowercase=True, max_df=1.0, max_features=None, min_df=1,\n",
       "        ngram_range=(1, 1), preprocessor=None, stop_words=None,\n",
       "        strip...oob_score=False, random_state=None, verbose=0,\n",
       "            warm_start=False),\n",
       "           n_jobs=1))])"
      ]
     },
     "execution_count": 5,
     "metadata": {},
     "output_type": "execute_result"
    }
   ],
   "source": [
    "# Split data into train and test sets\n",
    "X, y = load_data()\n",
    "X_train, X_test, y_train, y_test = train_test_split(X, y, test_size=0.2)\n",
    "\n",
    "# Train pipeline\n",
    "pipeline.fit(X_train, y_train)\n"
   ]
  },
  {
   "cell_type": "markdown",
   "metadata": {},
   "source": [
    "### 5. Test your model\n",
    "Report the f1 score, precision and recall for each output category of the dataset. You can do this by iterating through the columns and calling sklearn's `classification_report` on each."
   ]
  },
  {
   "cell_type": "code",
   "execution_count": 6,
   "metadata": {},
   "outputs": [
    {
     "name": "stdout",
     "output_type": "stream",
     "text": [
      "                        precision    recall  f1-score   support\n",
      "\n",
      "               related       0.78      0.45      0.57       856\n",
      "               request       0.00      0.00      0.00        32\n",
      "                 offer       0.73      0.59      0.65      2156\n",
      "           aid_related       0.64      0.12      0.20       394\n",
      "          medical_help       0.59      0.07      0.13       260\n",
      "      medical_products       0.67      0.07      0.12       153\n",
      "     search_and_rescue       0.33      0.01      0.03        74\n",
      "              security       0.78      0.08      0.15       170\n",
      "              military       0.00      0.00      0.00         0\n",
      "           child_alone       0.82      0.38      0.52       315\n",
      "                 water       0.83      0.46      0.59       579\n",
      "                  food       0.77      0.28      0.41       465\n",
      "               shelter       0.77      0.12      0.20        85\n",
      "              clothing       1.00      0.02      0.03       121\n",
      "                 money       0.00      0.00      0.00        63\n",
      "        missing_people       0.78      0.08      0.15       174\n",
      "              refugees       0.79      0.13      0.22       233\n",
      "                 death       0.51      0.04      0.08       693\n",
      "             other_aid       0.33      0.01      0.02       355\n",
      "infrastructure_related       0.58      0.05      0.09       221\n",
      "             transport       0.69      0.14      0.23       270\n",
      "             buildings       0.80      0.04      0.07       109\n",
      "           electricity       0.00      0.00      0.00        37\n",
      "                 tools       0.00      0.00      0.00        60\n",
      "             hospitals       0.00      0.00      0.00        21\n",
      "                 shops       0.00      0.00      0.00        62\n",
      "           aid_centers       0.25      0.01      0.02       246\n",
      "  other_infrastructure       0.84      0.63      0.72      1459\n",
      "       weather_related       0.84      0.39      0.53       432\n",
      "                floods       0.78      0.38      0.51       508\n",
      "                 storm       0.00      0.00      0.00        55\n",
      "                  fire       0.88      0.69      0.78       497\n",
      "            earthquake       0.61      0.12      0.20        90\n",
      "                  cold       0.39      0.04      0.08       271\n",
      "         other_weather       0.72      0.32      0.44      1006\n",
      "\n",
      "           avg / total       0.70      0.35      0.43     12522\n",
      "\n"
     ]
    },
    {
     "name": "stderr",
     "output_type": "stream",
     "text": [
      "/opt/conda/lib/python3.6/site-packages/sklearn/metrics/classification.py:1428: UserWarning: labels size, 35, does not match size of target_names, 36\n",
      "  .format(len(labels), len(target_names))\n",
      "/opt/conda/lib/python3.6/site-packages/sklearn/metrics/classification.py:1135: UndefinedMetricWarning: Precision and F-score are ill-defined and being set to 0.0 in labels with no predicted samples.\n",
      "  'precision', 'predicted', average, warn_for)\n",
      "/opt/conda/lib/python3.6/site-packages/sklearn/metrics/classification.py:1137: UndefinedMetricWarning: Recall and F-score are ill-defined and being set to 0.0 in labels with no true samples.\n",
      "  'recall', 'true', average, warn_for)\n"
     ]
    }
   ],
   "source": [
    " #Report the f1 score, precision, and recall for each output category\n",
    "\n",
    "#for i, column in enumerate(y.columns):\n",
    "   # print(\"Category:\", column)\n",
    "   # print(classification_report(y_test.iloc[:, i], y_pred[:, i]))\n",
    "\n",
    "# Define the categories based on your dataset columns\n",
    "\n",
    "categories = y.columns.tolist()\n",
    "\n",
    "y_pred = pipeline.predict(X_test)\n",
    "\n",
    "print(classification_report(y_test.iloc[:,1:].values, np.array([x[1:] for x in y_pred]), target_names=categories))"
   ]
  },
  {
   "cell_type": "markdown",
   "metadata": {},
   "source": [
    "### 6. Improve your model\n",
    "Use grid search to find better parameters. "
   ]
  },
  {
   "cell_type": "code",
   "execution_count": 7,
   "metadata": {
    "scrolled": true
   },
   "outputs": [
    {
     "name": "stdout",
     "output_type": "stream",
     "text": [
      "Fitting 2 folds for each of 4 candidates, totalling 8 fits\n",
      "[CV] clf__estimator__n_estimators=50, tfidf__smooth_idf=True .........\n",
      "[CV]  clf__estimator__n_estimators=50, tfidf__smooth_idf=True, total= 3.5min\n",
      "[CV] clf__estimator__n_estimators=50, tfidf__smooth_idf=True .........\n"
     ]
    },
    {
     "name": "stderr",
     "output_type": "stream",
     "text": [
      "[Parallel(n_jobs=1)]: Done   1 out of   1 | elapsed:  4.4min remaining:    0.0s\n"
     ]
    },
    {
     "name": "stdout",
     "output_type": "stream",
     "text": [
      "[CV]  clf__estimator__n_estimators=50, tfidf__smooth_idf=True, total= 3.6min\n",
      "[CV] clf__estimator__n_estimators=50, tfidf__smooth_idf=False ........\n",
      "[CV]  clf__estimator__n_estimators=50, tfidf__smooth_idf=False, total= 3.5min\n",
      "[CV] clf__estimator__n_estimators=50, tfidf__smooth_idf=False ........\n",
      "[CV]  clf__estimator__n_estimators=50, tfidf__smooth_idf=False, total= 3.4min\n",
      "[CV] clf__estimator__n_estimators=100, tfidf__smooth_idf=True ........\n",
      "[CV]  clf__estimator__n_estimators=100, tfidf__smooth_idf=True, total= 5.2min\n",
      "[CV] clf__estimator__n_estimators=100, tfidf__smooth_idf=True ........\n",
      "[CV]  clf__estimator__n_estimators=100, tfidf__smooth_idf=True, total= 5.1min\n",
      "[CV] clf__estimator__n_estimators=100, tfidf__smooth_idf=False .......\n",
      "[CV]  clf__estimator__n_estimators=100, tfidf__smooth_idf=False, total= 5.2min\n",
      "[CV] clf__estimator__n_estimators=100, tfidf__smooth_idf=False .......\n",
      "[CV]  clf__estimator__n_estimators=100, tfidf__smooth_idf=False, total= 5.3min\n"
     ]
    },
    {
     "name": "stderr",
     "output_type": "stream",
     "text": [
      "[Parallel(n_jobs=1)]: Done   8 out of   8 | elapsed: 42.8min finished\n"
     ]
    },
    {
     "data": {
      "text/plain": [
       "GridSearchCV(cv=2, error_score='raise',\n",
       "       estimator=Pipeline(memory=None,\n",
       "     steps=[('vect', CountVectorizer(analyzer='word', binary=False, decode_error='strict',\n",
       "        dtype=<class 'numpy.int64'>, encoding='utf-8', input='content',\n",
       "        lowercase=True, max_df=1.0, max_features=None, min_df=1,\n",
       "        ngram_range=(1, 1), preprocessor=None, stop_words=None,\n",
       "        strip...oob_score=False, random_state=None, verbose=0,\n",
       "            warm_start=False),\n",
       "           n_jobs=1))]),\n",
       "       fit_params=None, iid=True, n_jobs=1,\n",
       "       param_grid={'tfidf__smooth_idf': [True, False], 'clf__estimator__n_estimators': [50, 100]},\n",
       "       pre_dispatch='2*n_jobs', refit=True, return_train_score='warn',\n",
       "       scoring=None, verbose=2)"
      ]
     },
     "execution_count": 7,
     "metadata": {},
     "output_type": "execute_result"
    }
   ],
   "source": [
    "\n",
    "# Define pipeline\n",
    "pipeline = Pipeline([\n",
    "    ('vect', CountVectorizer(tokenizer=tokenize)),\n",
    "    ('tfidf', TfidfTransformer()),\n",
    "    ('clf', MultiOutputClassifier(RandomForestClassifier()))\n",
    "])\n",
    "\n",
    "# Define parameters for grid search\n",
    "parameters = {\n",
    "    'tfidf__smooth_idf': [True, False],\n",
    "    'clf__estimator__n_estimators': [50, 100],\n",
    "}\n",
    "\n",
    "# Initialize GridSearchCV\n",
    "cv = GridSearchCV(pipeline, parameters, cv=2, verbose=2)\n",
    "\n",
    "# Fit the GridSearchCV object\n",
    "cv.fit(X_train, y_train)"
   ]
  },
  {
   "cell_type": "markdown",
   "metadata": {},
   "source": [
    "### 7. Test your model\n",
    "Show the accuracy, precision, and recall of the tuned model.  \n",
    "\n",
    "Since this project focuses on code quality, process, and  pipelines, there is no minimum performance metric needed to pass. However, make sure to fine tune your models for accuracy, precision and recall to make your project stand out - especially for your portfolio!"
   ]
  },
  {
   "cell_type": "code",
   "execution_count": 10,
   "metadata": {},
   "outputs": [
    {
     "name": "stdout",
     "output_type": "stream",
     "text": [
      "0.412090007628\n"
     ]
    }
   ],
   "source": [
    "y_pred=cv.predict(X_test)\n",
    "print(accuracy_score(y_test.iloc[:,1:].values, np.array([x[1:] for x in y_pred])))"
   ]
  },
  {
   "cell_type": "markdown",
   "metadata": {},
   "source": [
    "### 8. Try improving your model further. Here are a few ideas:\n",
    "* try other machine learning algorithms\n",
    "* add other features besides the TF-IDF"
   ]
  },
  {
   "cell_type": "code",
   "execution_count": 12,
   "metadata": {},
   "outputs": [
    {
     "data": {
      "text/plain": [
       "{'clf__estimator__n_estimators': 100, 'tfidf__smooth_idf': True}"
      ]
     },
     "execution_count": 12,
     "metadata": {},
     "output_type": "execute_result"
    }
   ],
   "source": [
    "cv.best_params_"
   ]
  },
  {
   "cell_type": "markdown",
   "metadata": {},
   "source": [
    "### 9. Export your model as a pickle file"
   ]
  },
  {
   "cell_type": "code",
   "execution_count": null,
   "metadata": {},
   "outputs": [],
   "source": [
    "import pickle\n",
    "\n",
    "# Define the filename for the pickle file\n",
    "filename = 'model.pkl'\n",
    "\n",
    "# Export the trained model as a pickle file\n",
    "with open('model.pkl', 'wb') as file:\n",
    "    pickle.dump(cv, file)\n"
   ]
  },
  {
   "cell_type": "markdown",
   "metadata": {},
   "source": [
    "### 10. Use this notebook to complete `train_classifier.py`\n",
    "Use the template file attached in the Resources folder to write a script that runs the steps above to create a database and export a model based on a new dataset specified by the user."
   ]
  },
  {
   "cell_type": "code",
   "execution_count": null,
   "metadata": {},
   "outputs": [],
   "source": []
  }
 ],
 "metadata": {
  "kernelspec": {
   "display_name": "Python 3",
   "language": "python",
   "name": "python3"
  },
  "language_info": {
   "codemirror_mode": {
    "name": "ipython",
    "version": 3
   },
   "file_extension": ".py",
   "mimetype": "text/x-python",
   "name": "python",
   "nbconvert_exporter": "python",
   "pygments_lexer": "ipython3",
   "version": "3.6.3"
  }
 },
 "nbformat": 4,
 "nbformat_minor": 2
}
